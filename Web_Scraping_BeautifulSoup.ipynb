{
 "cells": [
  {
   "cell_type": "code",
   "execution_count": 1,
   "metadata": {},
   "outputs": [],
   "source": [
    "from bs4 import BeautifulSoup\n",
    "import requests\n",
    "import pandas as pd"
   ]
  },
  {
   "cell_type": "markdown",
   "metadata": {},
   "source": [
    "Use the requests library to download the content of the webpage"
   ]
  },
  {
   "cell_type": "code",
   "execution_count": 2,
   "metadata": {},
   "outputs": [],
   "source": [
    "URL = 'https://barttorvik.com/trank.php#'\n",
    "page = requests.get(URL)"
   ]
  },
  {
   "cell_type": "markdown",
   "metadata": {},
   "source": [
    "Turn the BeautifulSoup and html.parser to convert the page html data to a BeautifulSoup object"
   ]
  },
  {
   "cell_type": "code",
   "execution_count": 3,
   "metadata": {},
   "outputs": [],
   "source": [
    "raw_html = BeautifulSoup(page.content, 'html.parser')"
   ]
  },
  {
   "cell_type": "markdown",
   "metadata": {},
   "source": [
    "Take a look at the text in the first h1 tag in the page"
   ]
  },
  {
   "cell_type": "code",
   "execution_count": 4,
   "metadata": {},
   "outputs": [
    {
     "name": "stdout",
     "output_type": "stream",
     "text": [
      "\r\n",
      "2021 Customizable T-Rank and Tempo-Free Stats \n"
     ]
    }
   ],
   "source": [
    "test = raw_html.find('h1')\n",
    "print(test.text)"
   ]
  },
  {
   "cell_type": "markdown",
   "metadata": {},
   "source": [
    "The columns name are under thead > tr > th. here is how we get them: (They all have a style in common so we use that to filter out the titles)"
   ]
  },
  {
   "cell_type": "code",
   "execution_count": 5,
   "metadata": {},
   "outputs": [
    {
     "data": {
      "text/plain": [
       "['Rk',\n",
       " 'Team',\n",
       " 'Conf',\n",
       " 'G',\n",
       " 'Rec',\n",
       " 'AdjOE',\n",
       " 'AdjDE',\n",
       " 'Barthag',\n",
       " 'EFG%',\n",
       " 'EFGD%',\n",
       " 'TOR',\n",
       " 'TORD',\n",
       " 'ORB',\n",
       " 'DRB',\n",
       " 'FTR',\n",
       " 'FTRD',\n",
       " '2P%',\n",
       " '2P%D',\n",
       " '3P%',\n",
       " '3P%D',\n",
       " 'Adj T.',\n",
       " 'WAB']"
      ]
     },
     "execution_count": 5,
     "metadata": {},
     "output_type": "execute_result"
    }
   ],
   "source": [
    "table_head = raw_html.find('thead')\n",
    "cols = table_head.find('tr', style=\"font-size:10px\")\n",
    "colHead = cols.find_all('th')\n",
    "c = 0\n",
    "column_names = []\n",
    "for i in colHead:\n",
    "    column_names.append(i.text)\n",
    "column_names"
   ]
  },
  {
   "cell_type": "markdown",
   "metadata": {},
   "source": [
    "The table data is under tbody > tr > td"
   ]
  },
  {
   "cell_type": "code",
   "execution_count": 6,
   "metadata": {},
   "outputs": [
    {
     "data": {
      "text/html": [
       "<div>\n",
       "<style scoped>\n",
       "    .dataframe tbody tr th:only-of-type {\n",
       "        vertical-align: middle;\n",
       "    }\n",
       "\n",
       "    .dataframe tbody tr th {\n",
       "        vertical-align: top;\n",
       "    }\n",
       "\n",
       "    .dataframe thead th {\n",
       "        text-align: right;\n",
       "    }\n",
       "</style>\n",
       "<table border=\"1\" class=\"dataframe\">\n",
       "  <thead>\n",
       "    <tr style=\"text-align: right;\">\n",
       "      <th></th>\n",
       "      <th>Rk</th>\n",
       "      <th>Team</th>\n",
       "      <th>Conf</th>\n",
       "      <th>G</th>\n",
       "      <th>Rec</th>\n",
       "      <th>AdjOE</th>\n",
       "      <th>AdjDE</th>\n",
       "      <th>Barthag</th>\n",
       "      <th>EFG%</th>\n",
       "      <th>EFGD%</th>\n",
       "      <th>...</th>\n",
       "      <th>ORB</th>\n",
       "      <th>DRB</th>\n",
       "      <th>FTR</th>\n",
       "      <th>FTRD</th>\n",
       "      <th>2P%</th>\n",
       "      <th>2P%D</th>\n",
       "      <th>3P%</th>\n",
       "      <th>3P%D</th>\n",
       "      <th>Adj T.</th>\n",
       "      <th>WAB</th>\n",
       "    </tr>\n",
       "  </thead>\n",
       "  <tbody>\n",
       "    <tr>\n",
       "      <th>0</th>\n",
       "      <td>1</td>\n",
       "      <td>Gonzaga</td>\n",
       "      <td>WCC</td>\n",
       "      <td>24</td>\n",
       "      <td>24-0</td>\n",
       "      <td>124.8</td>\n",
       "      <td>89.1</td>\n",
       "      <td>.9797</td>\n",
       "      <td>61.1</td>\n",
       "      <td>47.5</td>\n",
       "      <td>...</td>\n",
       "      <td>30.8</td>\n",
       "      <td>23.7</td>\n",
       "      <td>37</td>\n",
       "      <td>26.8</td>\n",
       "      <td>64.5</td>\n",
       "      <td>46.5</td>\n",
       "      <td>36</td>\n",
       "      <td>33</td>\n",
       "      <td>74.9</td>\n",
       "      <td>7.6</td>\n",
       "    </tr>\n",
       "    <tr>\n",
       "      <th>1</th>\n",
       "      <td>2</td>\n",
       "      <td>Houston</td>\n",
       "      <td>Amer</td>\n",
       "      <td>22</td>\n",
       "      <td>20-3</td>\n",
       "      <td>117.9</td>\n",
       "      <td>88.5</td>\n",
       "      <td>.9646</td>\n",
       "      <td>50.8</td>\n",
       "      <td>42.4</td>\n",
       "      <td>...</td>\n",
       "      <td>39.5</td>\n",
       "      <td>27.9</td>\n",
       "      <td>31.4</td>\n",
       "      <td>43.6</td>\n",
       "      <td>49.2</td>\n",
       "      <td>42.6</td>\n",
       "      <td>35.3</td>\n",
       "      <td>28.1</td>\n",
       "      <td>65.9</td>\n",
       "      <td>2.9</td>\n",
       "    </tr>\n",
       "    <tr>\n",
       "      <th>2</th>\n",
       "      <td>3</td>\n",
       "      <td>Baylor   (H) 32 Oklahoma St.</td>\n",
       "      <td>B12</td>\n",
       "      <td>20</td>\n",
       "      <td>19-1</td>\n",
       "      <td>121.7</td>\n",
       "      <td>91.9</td>\n",
       "      <td>.9620</td>\n",
       "      <td>57.8</td>\n",
       "      <td>48.2</td>\n",
       "      <td>...</td>\n",
       "      <td>37</td>\n",
       "      <td>31.1</td>\n",
       "      <td>26.8</td>\n",
       "      <td>31.4</td>\n",
       "      <td>54.4</td>\n",
       "      <td>47.9</td>\n",
       "      <td>42.1</td>\n",
       "      <td>32.6</td>\n",
       "      <td>69.2</td>\n",
       "      <td>6.1</td>\n",
       "    </tr>\n",
       "    <tr>\n",
       "      <th>3</th>\n",
       "      <td>4</td>\n",
       "      <td>Michigan   (H) 60 Michigan St.</td>\n",
       "      <td>B10</td>\n",
       "      <td>20</td>\n",
       "      <td>18-2</td>\n",
       "      <td>118.2</td>\n",
       "      <td>89.6</td>\n",
       "      <td>.9602</td>\n",
       "      <td>55.6</td>\n",
       "      <td>44.3</td>\n",
       "      <td>...</td>\n",
       "      <td>29.9</td>\n",
       "      <td>24.7</td>\n",
       "      <td>29.9</td>\n",
       "      <td>24</td>\n",
       "      <td>54.3</td>\n",
       "      <td>41.6</td>\n",
       "      <td>38.8</td>\n",
       "      <td>33.2</td>\n",
       "      <td>67.8</td>\n",
       "      <td>7.3</td>\n",
       "    </tr>\n",
       "    <tr>\n",
       "      <th>4</th>\n",
       "      <td>5</td>\n",
       "      <td>Iowa   (H) 82 Nebraska</td>\n",
       "      <td>B10</td>\n",
       "      <td>25</td>\n",
       "      <td>18-7</td>\n",
       "      <td>124.0</td>\n",
       "      <td>96.3</td>\n",
       "      <td>.9487</td>\n",
       "      <td>55</td>\n",
       "      <td>48.3</td>\n",
       "      <td>...</td>\n",
       "      <td>31.7</td>\n",
       "      <td>29.7</td>\n",
       "      <td>33.4</td>\n",
       "      <td>23.4</td>\n",
       "      <td>51.6</td>\n",
       "      <td>45.6</td>\n",
       "      <td>40.1</td>\n",
       "      <td>34.9</td>\n",
       "      <td>70</td>\n",
       "      <td>4.6</td>\n",
       "    </tr>\n",
       "    <tr>\n",
       "      <th>5</th>\n",
       "      <td>6</td>\n",
       "      <td>Illinois</td>\n",
       "      <td>B10</td>\n",
       "      <td>25</td>\n",
       "      <td>19-6</td>\n",
       "      <td>116.0</td>\n",
       "      <td>90.4</td>\n",
       "      <td>.9461</td>\n",
       "      <td>55.9</td>\n",
       "      <td>46.3</td>\n",
       "      <td>...</td>\n",
       "      <td>32.6</td>\n",
       "      <td>22.1</td>\n",
       "      <td>38.4</td>\n",
       "      <td>30.4</td>\n",
       "      <td>55.2</td>\n",
       "      <td>44.7</td>\n",
       "      <td>38.3</td>\n",
       "      <td>33.1</td>\n",
       "      <td>71</td>\n",
       "      <td>6.5</td>\n",
       "    </tr>\n",
       "  </tbody>\n",
       "</table>\n",
       "<p>6 rows × 22 columns</p>\n",
       "</div>"
      ],
      "text/plain": [
       "  Rk                            Team  Conf   G   Rec  AdjOE AdjDE Barthag  \\\n",
       "0  1                         Gonzaga   WCC  24  24-0  124.8  89.1   .9797   \n",
       "1  2                         Houston  Amer  22  20-3  117.9  88.5   .9646   \n",
       "2  3    Baylor   (H) 32 Oklahoma St.   B12  20  19-1  121.7  91.9   .9620   \n",
       "3  4  Michigan   (H) 60 Michigan St.   B10  20  18-2  118.2  89.6   .9602   \n",
       "4  5          Iowa   (H) 82 Nebraska   B10  25  18-7  124.0  96.3   .9487   \n",
       "5  6                        Illinois   B10  25  19-6  116.0  90.4   .9461   \n",
       "\n",
       "   EFG% EFGD%  ...   ORB   DRB   FTR  FTRD   2P%  2P%D   3P%  3P%D Adj T.  WAB  \n",
       "0  61.1  47.5  ...  30.8  23.7    37  26.8  64.5  46.5    36    33   74.9  7.6  \n",
       "1  50.8  42.4  ...  39.5  27.9  31.4  43.6  49.2  42.6  35.3  28.1   65.9  2.9  \n",
       "2  57.8  48.2  ...    37  31.1  26.8  31.4  54.4  47.9  42.1  32.6   69.2  6.1  \n",
       "3  55.6  44.3  ...  29.9  24.7  29.9    24  54.3  41.6  38.8  33.2   67.8  7.3  \n",
       "4    55  48.3  ...  31.7  29.7  33.4  23.4  51.6  45.6  40.1  34.9     70  4.6  \n",
       "5  55.9  46.3  ...  32.6  22.1  38.4  30.4  55.2  44.7  38.3  33.1     71  6.5  \n",
       "\n",
       "[6 rows x 22 columns]"
      ]
     },
     "execution_count": 6,
     "metadata": {},
     "output_type": "execute_result"
    }
   ],
   "source": [
    "table_Body = raw_html.find(\"tbody\")\n",
    "body_data = table_Body.find_all('tr')\n",
    "all_data=[]\n",
    "for rows in body_data:\n",
    "    r = 0\n",
    "    signleRowData = rows.find_all('td', recursive=False)\n",
    "    if len(signleRowData) > 0:\n",
    "        team_d ={}\n",
    "        for col in signleRowData:\n",
    "            #There are some incosistancies on how table columns are set up\n",
    "            #We use a if statment to get the right data\n",
    "            if r > 3:\n",
    "                data = col.find('br').previousSibling\n",
    "                #Each row (aka each team) is added to a dictionery {column_name: column_value}\n",
    "                team_d.update({column_names[r]: str(data.string)})\n",
    "            else:\n",
    "                team_d.update({column_names[r]: col.text})\n",
    "            r += 1 \n",
    "        #The dictioneries are added to an array\n",
    "        all_data.append(team_d)\n",
    "#The array of dictioneries are turned into a pandas dataframe\n",
    "df2021 = pd.DataFrame(all_data, columns=column_names)\n",
    "df2021.head(6)"
   ]
  },
  {
   "cell_type": "code",
   "execution_count": 7,
   "metadata": {},
   "outputs": [
    {
     "data": {
      "text/plain": [
       "(347, 22)"
      ]
     },
     "execution_count": 7,
     "metadata": {},
     "output_type": "execute_result"
    }
   ],
   "source": [
    "df2021.shape"
   ]
  },
  {
   "cell_type": "code",
   "execution_count": 8,
   "metadata": {},
   "outputs": [],
   "source": [
    "df2021.to_csv(\"df2021.csv\")"
   ]
  }
 ],
 "metadata": {
  "kernelspec": {
   "display_name": "INHosp",
   "language": "python",
   "name": "inhosp"
  },
  "language_info": {
   "codemirror_mode": {
    "name": "ipython",
    "version": 3
   },
   "file_extension": ".py",
   "mimetype": "text/x-python",
   "name": "python",
   "nbconvert_exporter": "python",
   "pygments_lexer": "ipython3",
   "version": "3.9.1"
  }
 },
 "nbformat": 4,
 "nbformat_minor": 4
}
